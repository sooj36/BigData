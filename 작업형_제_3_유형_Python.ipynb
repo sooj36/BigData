{
  "cells": [
    {
      "cell_type": "markdown",
      "metadata": {
        "id": "view-in-github",
        "colab_type": "text"
      },
      "source": [
        "<a href=\"https://colab.research.google.com/github/sooj36/BigData/blob/main/%EC%9E%91%EC%97%85%ED%98%95_%EC%A0%9C_3_%EC%9C%A0%ED%98%95_Python.ipynb\" target=\"_parent\"><img src=\"https://colab.research.google.com/assets/colab-badge.svg\" alt=\"Open In Colab\"/></a>"
      ]
    },
    {
      "cell_type": "markdown",
      "metadata": {
        "id": "w2TlHdVca9ym"
      },
      "source": [
        "# 작업형 제 3 유형(Python)"
      ]
    },
    {
      "cell_type": "code",
      "execution_count": null,
      "metadata": {
        "id": "R1WTeoccleo-"
      },
      "outputs": [],
      "source": [
        "## 사용패키지\n",
        "import pandas as pd\n",
        "import numpy as np"
      ]
    },
    {
      "cell_type": "code",
      "execution_count": null,
      "metadata": {
        "id": "Ln1C9opKazta"
      },
      "outputs": [],
      "source": [
        "from google.colab import drive\n",
        "drive.mount('/content/drive')"
      ]
    },
    {
      "cell_type": "markdown",
      "metadata": {
        "id": "zqnubAAOBkG4"
      },
      "source": [
        "# 1.\n",
        "키(Height), 몸무게(Weight), 발 사이즈(Shoe Size)를 이용하여 남녀(Sex) 성별을 분류하는 로지스틱 회귀모형을 만들고자 한다. 주어진 데이터 세트를 이용하여 로지스틱 회귀모형을 만들고 아래의 질문에 답하시오. 단, 주어진 데이터 세트의 2/3를 훈련용으로, 1/3을 테스트용으로 분할하여 작업하시오."
      ]
    },
    {
      "cell_type": "markdown",
      "metadata": {
        "id": "xuaZhIGjbVDj"
      },
      "source": [
        "(1) 훈련용 데이터를 이용하여 'Height', 'Weight', 'Shoe Size'를 설명변수로 사용하는 로지스틱 회귀모형을 만들고 Weight의 오즈비를 계산하시오."
      ]
    },
    {
      "cell_type": "code",
      "source": [
        "import pandas as pd\n",
        "\n",
        "#----------------------------------------------------------#\n",
        "# pandas의 read_csv 함수를 통해 데이터프레임 형태로 불러오기\n",
        "file = \"/content/gender_prediction_dataset.csv\"\n",
        "df = pd.read_csv(file)\n",
        "#----------------------------------------------------------#\n",
        "\n",
        "df1 = df.copy()\n",
        "\n",
        "# 데이터 인코딩 - 범주형\n",
        "from sklearn.preprocessing import LabelEncoder\n",
        "le = LabelEncoder()\n",
        "df1['Gender'] = le.fit_transform(df1['Gender'])\n",
        "\n",
        "# 변수 설정\n",
        "X = df1[['Height', 'Weight', 'ShoeSize']]\n",
        "y = df1[['Gender']]\n",
        "\n",
        "# 데이터 분할\n",
        "from sklearn.model_selection import train_test_split\n",
        "X_train, X_test, y_train, y_test = train_test_split(X, y.values, test_size=0.3, stratify=y.values, random_state=1)\n",
        "\n",
        "# 로지스틱 회귀\n",
        "import statsmodels.api as sm\n",
        "X_train = sm.add_constant(X_train)  # 절편 추가\n",
        "lm = sm.Logit(y_train, X_train).fit()\n",
        "\n",
        "# 로지스틱 모형의 coef 이므로 역으로 지수변환을 하면 오즈비를 구할 수 있다\n",
        "print(np.exp(lm.params)['Weight'])"
      ],
      "metadata": {
        "id": "4_snH9_RvMZv"
      },
      "execution_count": null,
      "outputs": []
    },
    {
      "cell_type": "markdown",
      "metadata": {
        "id": "XTTeGpJgIp3b"
      },
      "source": [
        "오즈비 : 성공확률과 실패확률의 비"
      ]
    },
    {
      "cell_type": "code",
      "execution_count": null,
      "metadata": {
        "id": "BD6vFH8VginI"
      },
      "outputs": [],
      "source": [
        "# 데이터 불러오기\n",
        "import pandas as pd\n",
        "\n",
        "#file = '/content/drive/MyDrive/Colab Notebooks/파이썬 작업형/dataset/gender_prediction_dataset.csv'\n",
        "file = \"/content/gender_prediction_dataset.csv\"\n",
        "\n",
        "df = pd.read_csv(file) #, encoding='cp949'\n",
        "print(df.head())"
      ]
    },
    {
      "cell_type": "markdown",
      "metadata": {
        "id": "6aGYuMfAKCto"
      },
      "source": [
        "(2) 모델의 로그우도(log-likelihood)를 구하시오."
      ]
    },
    {
      "cell_type": "code",
      "source": [
        "# 로그 우도 함수\n",
        "print(lm.llf)"
      ],
      "metadata": {
        "id": "TccNhGA9vRVe"
      },
      "execution_count": null,
      "outputs": []
    },
    {
      "cell_type": "markdown",
      "metadata": {
        "id": "dqruz7QoKoOZ"
      },
      "source": [
        "(3) (2)에서 만든 모델로 평가용 데이터로 예측한 결과와 실제값의 오차율을 구하시오."
      ]
    },
    {
      "cell_type": "code",
      "source": [
        "# 로지스틱 회귀 예\n",
        "X_test = sm.add_constant(X_test)  # 절편 추가\n",
        "y_pred = (lm.predict(X_test)>=0.5).astype(int)\n",
        "\n",
        "# 평균 절대 오차\n",
        "print(np.mean(np.abs(y_pred.values-y_test)))"
      ],
      "metadata": {
        "id": "gRhUDGqbvTWn"
      },
      "execution_count": null,
      "outputs": []
    },
    {
      "cell_type": "markdown",
      "metadata": {
        "id": "3EC8JZ-nN_NT"
      },
      "source": [
        "※ sklearn의 로지스텍 모델 활용(할 수 있지만 비추천)\n",
        "    - 로그우도를 구하는 코드를 직접 작성해야 함"
      ]
    },
    {
      "cell_type": "markdown",
      "metadata": {
        "id": "DCwa6yO5RFey"
      },
      "source": [
        "# 2.\n",
        "중고차의 가격을 다중회귀분석으로 분석하고자 한다. Price를 종속변수로, Year, Transmission, Mileage, Fuel type, Tax, Mpg, Engine Size를 독립변수로 사용한다. 데이터의 구성은 아래 표와 같다."
      ]
    },
    {
      "cell_type": "markdown",
      "metadata": {
        "id": "s1Y5FqBIRU1T"
      },
      "source": [
        "|변수|설명|\n",
        "|--|--|\n",
        "|year|생산년도|\n",
        "|transmission|트랜스미션(Manual, Automatic, Semi-Auto)|\n",
        "|mileage|주행거리|\n",
        "|fuel type|연료 타입(Petrol, Diesel, Hybrid)|\n",
        "|tax|세금|\n",
        "|mpg|연비|\n",
        "|engine Size|엔진 크기|\n",
        "|Price|가격($)|"
      ]
    },
    {
      "cell_type": "code",
      "execution_count": null,
      "metadata": {
        "id": "N2fAWAaDu1Ot"
      },
      "outputs": [],
      "source": [
        "# 데이터 불러오기\n",
        "import pandas as pd\n",
        "\n",
        "#file = '/content/drive/MyDrive/Colab Notebooks/파이썬 작업형/dataset/transport_data.csv'\n",
        "file = \"/content/transport_data.csv\"\n",
        "\n",
        "df = pd.read_csv(file) #, encoding='cp949'\n",
        "print(df.head())"
      ]
    },
    {
      "cell_type": "markdown",
      "metadata": {
        "id": "1voQ3088RUql"
      },
      "source": [
        "(1) 다중회귀분석 모형의 결정계수를 구하시오."
      ]
    },
    {
      "cell_type": "code",
      "source": [
        "import pandas as pd\n",
        "\n",
        "#----------------------------------------------------------#\n",
        "# pandas의 read_csv 함수를 통해 데이터프레임 형태로 불러오기\n",
        "#file = \"/dataset/user_car_price_dataset.csv\"\n",
        "file = \"/content/used_car_price_dataset.csv\"\n",
        "df = pd.read_csv(file)\n",
        "#----------------------------------------------------------#\n",
        "\n",
        "df1 = df.copy()\n",
        "\n",
        "# 데이터 인코딩 - 범주형\n",
        "from sklearn.preprocessing import LabelEncoder\n",
        "le = LabelEncoder()\n",
        "df1['transmission'] = le.fit_transform(df1['fuelType'])\n",
        "df1['fuelType'] = le.fit_transform(df1['transmission'])\n",
        "df1.head()\n",
        "\n",
        "# 직접 인코딩\n",
        "# Gender 변수를 이진 변수로 변환하기 (replace 사용)\n",
        "df1['transmission'] = df1['transmission'].replace({'Manual': 0, 'Automatic': 1, 'Semi-Auto': 2})\n",
        "df1['fuelType'] = df1['fuelType'].replace({'Petrol': 0, 'Diesel': 1, 'Hybrid': 2})\n",
        "\n",
        "# X, y 데이터 분리\n",
        "X = df1.drop('price', axis=1)\n",
        "y = df1['price']\n",
        "\n",
        "# 다중회귀분석 모델 학습\n",
        "import statsmodels.api as sm\n",
        "X = sm.add_constant(X)\n",
        "model = sm.OLS(y,X).fit()\n",
        "\n",
        "# 결정계수 출력\n",
        "print(model.rsquared)"
      ],
      "metadata": {
        "id": "3LjAspU4vamG"
      },
      "execution_count": null,
      "outputs": []
    },
    {
      "cell_type": "markdown",
      "metadata": {
        "id": "wsDWuvn5VjC0"
      },
      "source": [
        "(2) 독립변수 중 회귀계수가 가장 큰 변수와 그 값을 구하여 튜플 타입으로 출력하시오.\n",
        "  \n",
        "※ 예시 : ('Weight', 0.09003569454430438)"
      ]
    },
    {
      "cell_type": "code",
      "source": [
        "# params 를 통해 모델의 회귀계수 출력\n",
        "coef = model.params\n",
        "max_coef = coef.idxmax(), coef.max()"
      ],
      "metadata": {
        "id": "4lAWTcfHvry1"
      },
      "execution_count": null,
      "outputs": []
    },
    {
      "cell_type": "markdown",
      "metadata": {
        "id": "E_OFWQqhWDKu"
      },
      "source": [
        "(3) p-value가 가장 낮은 변수와 그 값을 구하여 튜플 타입으로 출력하시오."
      ]
    },
    {
      "cell_type": "code",
      "source": [
        "pvalue = model.pvalues\n",
        "min_pvalue = pvalue.idxmin(), pvalue.min()\n",
        "print(min_pvalue)"
      ],
      "metadata": {
        "id": "O5QeaozPx7NI"
      },
      "execution_count": null,
      "outputs": []
    },
    {
      "cell_type": "code",
      "source": [
        "pvalue = model.pvalues\n",
        "min_pvalue = pvalue.idxmin(), pvalue.min()\n",
        "print(min_pvalue)"
      ],
      "metadata": {
        "id": "7_1bQAiGvtFq"
      },
      "execution_count": null,
      "outputs": []
    },
    {
      "cell_type": "markdown",
      "metadata": {
        "id": "QOW7ndHF4tTk"
      },
      "source": [
        "# 3.\n",
        "\n",
        "A 도시의 교통수단은 버스, 지하철, 택시, 자전거가 있다. 전문가들은 각 교통수단의 실제 선택 비율이 각각 40%, 30%, 20%, 10%라고 예측했다. 이를 검증하기 위해 대중교통 이용자들이 선호하는 교통수단에 대해 설문조사를 했다. 이를 위해 수립한 귀무가설과 대립가설은 아래와 같고, 이에 대한 검정을 진행하시오."
      ]
    },
    {
      "cell_type": "markdown",
      "metadata": {
        "id": "S4Wv-eYW4x7g"
      },
      "source": [
        "|귀무가설(H0)|대중교통 이용객의 실제 교통수단 선택 비율이 예상 비율과 같다.|\n",
        "|--|--|\n",
        "|대립가설(H1)|대중교통 이용객의 실제 교통수단 선택 비율이 예상 비율과 다르다.|\n"
      ]
    },
    {
      "cell_type": "markdown",
      "metadata": {
        "id": "LQL8o3Gp49y6"
      },
      "source": [
        "|User ID|TransportMode|\n",
        "|--|--|\n",
        "|U1|subway|\n",
        "|U2|taxi|\n",
        "|U3|subway|\n",
        "|U4|subway|"
      ]
    },
    {
      "cell_type": "markdown",
      "metadata": {
        "id": "YVsdzlVS5Jul"
      },
      "source": [
        "(1) 주어진 설문조사 데이터에서 전체 건수 대비 Subway를 선호하는 이용자의 비율을 구하시오. (단, 반올림하여 소수점 둘째 자리까지 계산한다.)"
      ]
    },
    {
      "cell_type": "code",
      "execution_count": null,
      "metadata": {
        "id": "X2RfeLNN5QQa"
      },
      "outputs": [],
      "source": [
        "# 데이터 불러오기\n",
        "import pandas as pd\n",
        "\n",
        "file = \"/content/transport_data.csv\"\n",
        "\n",
        "df = pd.read_csv(file) #, encoding='cp949'\n",
        "print(df.head())"
      ]
    },
    {
      "cell_type": "code",
      "source": [
        "import pandas as pd\n",
        "\n",
        "#----------------------------------------------------------#\n",
        "# pandas의 read_csv 함수를 통해 데이터프레임 형태로 불러오기\n",
        "file = \"/content/transport_data.csv\"\n",
        "df = pd.read_csv(file)\n",
        "#----------------------------------------------------------#\n",
        "\n",
        "# 지하철 이용자 데이터 생성\n",
        "subway = df['TransportMode'].value_counts().sort_index(ascending=True)\n",
        "\n",
        "# 지하철 선호 이용자 비율\n",
        "total = sum(df['TransportMode'].value_counts().sort_index(ascending=True))\n",
        "\n",
        "subway_ratio = subway['subway'] / total\n",
        "print(round(subway_ratio, 2))"
      ],
      "metadata": {
        "id": "PFEtBKSTyJbY"
      },
      "execution_count": null,
      "outputs": []
    },
    {
      "cell_type": "markdown",
      "metadata": {
        "id": "2eB2JIlc5JoW"
      },
      "source": [
        "(2) 예상 이용자 수와 실제 이용자 수가 동일한 비율을 보이는지 적합도를 검정하고 검정통계량을 소수 둘째 자리로 반올림하시오."
      ]
    },
    {
      "cell_type": "code",
      "source": [
        "# 기대값 데이터 생성\n",
        "expect_data = pd.DataFrame({'transport': ['bus', 'subway', 'taxi', 'bicycle'],\n",
        "                            'expected': [total*0.4, total*0.3, total*0.2, total*0.1]})\n",
        "expect = expect_data.sort_values(by='transport', ascending=True)\n",
        "\n",
        "# 검정 통계량 구하기\n",
        "import scipy.stats as stats\n",
        "stat, pval = stats.chisquare(subway, expect['expected'])\n",
        "print(round(stat,2))"
      ],
      "metadata": {
        "id": "bWPSbhnSyOMX"
      },
      "execution_count": null,
      "outputs": []
    },
    {
      "cell_type": "markdown",
      "metadata": {
        "id": "Gt2j4py75JhS"
      },
      "source": [
        "(3) 위의 통계량에 대한 p-value를 구하고, 유의수준 0.05하에서 가설 검정의 결과를 채택·기각 중 하나로 선택하시오. (단, p-value 값은 반올림하여 소수점 둘째 자리까지 계산한다.)"
      ]
    },
    {
      "cell_type": "code",
      "source": [
        "print(pval)\n",
        "if pval>=0.05:\n",
        "    print(\"채택\")\n",
        "else:\n",
        "    print('기각')"
      ],
      "metadata": {
        "id": "aZ-WCU-AyP3H"
      },
      "execution_count": null,
      "outputs": []
    },
    {
      "cell_type": "markdown",
      "metadata": {
        "id": "Po0GSMozAePp"
      },
      "source": [
        "# 4.\n",
        "\n",
        "물고기의 무게를 다중회귀분석으로 분석하고자 한다. 데이터의 구성은 아래 표와 같다. Weight를 Y 변수로 Length, Height, Width, FinSize를 X 변수로 하는 다중회귀분석을 수행하고 아래에 답하시오."
      ]
    },
    {
      "cell_type": "markdown",
      "metadata": {
        "id": "fTzU3k1dArGG"
      },
      "source": [
        "|id|Length|Height|Width|FinSize|Weight|\n",
        "|--|--|--|--|--|--|\n",
        "|1|63.91|28.72|3.46|18.22|194.32|\n",
        "|2|77.22|14.45|7.12|15.71|194.59|\n",
        "|3|68.22|30.73|4.09|7.33|191.24|\n",
        "|4|63.59|38.68|2.21|2.54|195.24|\n",
        "|5|53.89|13.71|0.73|7.84|131.82|\n"
      ]
    },
    {
      "cell_type": "markdown",
      "metadata": {
        "id": "gBVqZFcPA0in"
      },
      "source": [
        "(1) Length의 회귀계수를 구하고, 소수 둘째 자리로 반올림하시오."
      ]
    },
    {
      "cell_type": "code",
      "execution_count": null,
      "metadata": {
        "id": "J0zVQXdCNVFb"
      },
      "outputs": [],
      "source": [
        "# 데이터 불러오기\n",
        "import pandas as pd\n",
        "\n",
        "#file = '/content/drive/MyDrive/Colab Notebooks/파이썬 작업형/dataset/fish_weight_data.csv'\n",
        "file = \"/content/fish_weight_data.csv\"\n",
        "\n",
        "df = pd.read_csv(file) #, encoding='cp949'\n",
        "print(df.head())"
      ]
    },
    {
      "cell_type": "code",
      "source": [
        "import pandas as pd\n",
        "\n",
        "#----------------------------------------------------------#\n",
        "# pandas의 read_csv 함수를 통해 데이터프레임 형태로 불러오기\n",
        "\n",
        "file = \"/content/fish_weight_data.csv\"\n",
        "df = pd.read_csv(file)\n",
        "#----------------------------------------------------------#\n",
        "\n",
        "# 독립변수 / 종속변수 분리\n",
        "X = df[['Length', 'Height', 'Width', 'FinSize']]\n",
        "y = df[['Weight']]\n",
        "\n",
        "import statsmodels.api as sm\n",
        "# 상수항 추가 (절편)\n",
        "X = sm.add_constant(X)\n",
        "# 회귀 모델 적합\n",
        "model = sm.OLS(y, X).fit()\n",
        "\n",
        "length_coef = round(model.params['Length'], 2)\n",
        "print(length_coef)"
      ],
      "metadata": {
        "id": "00-ZGjTDyZ3B"
      },
      "execution_count": null,
      "outputs": []
    },
    {
      "cell_type": "markdown",
      "metadata": {
        "id": "EIXsyniCA1bB"
      },
      "source": [
        "(2) Height의 회귀계수의 P-value를 구하시오."
      ]
    },
    {
      "cell_type": "code",
      "source": [
        "height_pvalue = model.pvalues['Height']\n",
        "print(height_pvalue)"
      ],
      "metadata": {
        "id": "NlChao1Myd9S"
      },
      "execution_count": null,
      "outputs": []
    },
    {
      "cell_type": "markdown",
      "metadata": {
        "id": "rGYIKFfgA1VV"
      },
      "source": [
        "(3) Width의 회귀계수가 P-value 0.05를 기준으로 했을 때 통계적으로 의미가 있는지를 평가하시오. 의미가 있는 경우엔 'Y', 없는 경우엔 'N'을 출력하시오."
      ]
    },
    {
      "cell_type": "code",
      "source": [
        "width_pvalue = model.pvalues['Width']\n",
        "if width_pvalue < 0.05:\n",
        "    print(\"Y\")\n",
        "else:\n",
        "    print(\"N\")"
      ],
      "metadata": {
        "id": "XcNQGzqlyfR8"
      },
      "execution_count": null,
      "outputs": []
    }
  ],
  "metadata": {
    "colab": {
      "private_outputs": true,
      "provenance": [],
      "include_colab_link": true
    },
    "kernelspec": {
      "display_name": "Python 3",
      "name": "python3"
    },
    "language_info": {
      "name": "python"
    }
  },
  "nbformat": 4,
  "nbformat_minor": 0
}