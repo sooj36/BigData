{
  "cells": [
    {
      "cell_type": "markdown",
      "metadata": {
        "id": "view-in-github",
        "colab_type": "text"
      },
      "source": [
        "<a href=\"https://colab.research.google.com/github/sooj36/BigData/blob/main/%EC%9E%91%EC%97%85%ED%98%95_%EC%A0%9C_1_%EC%9C%A0%ED%98%95_Python.ipynb\" target=\"_parent\"><img src=\"https://colab.research.google.com/assets/colab-badge.svg\" alt=\"Open In Colab\"/></a>"
      ]
    },
    {
      "cell_type": "markdown",
      "metadata": {
        "id": "w2TlHdVca9ym"
      },
      "source": [
        "# 작업형 제 1 유형(Python)"
      ]
    },
    {
      "cell_type": "code",
      "execution_count": null,
      "metadata": {
        "id": "oizlTyzzAFqs"
      },
      "outputs": [],
      "source": [
        "# from google.colab import files\n",
        "# uploaded = files.upload()"
      ]
    },
    {
      "cell_type": "code",
      "execution_count": null,
      "metadata": {
        "id": "NlPpvaGCAB4r"
      },
      "outputs": [],
      "source": [
        "from google.colab import drive\n",
        "drive.mount('/content/drive')"
      ]
    },
    {
      "cell_type": "markdown",
      "metadata": {
        "id": "kwIRQp2rEdh4"
      },
      "source": [
        "# 1.\n",
        "\n",
        "주어진 데이터 세트는 학생들의 과목별 점수 데이터다. 수강과목은 통계(Statistics), 데이터사이언스(Data Science), 머신러닝(Machine Learning), 교양영어(English Literature)이다. 학생들은 이 중 3과목을 선택하여 들었으며 이에 대한 점수를 받았다. 가장 많은 학생이 들었던 과목을 구하고 결측치를 제거한 후, 해당 과목의 점수를 표준화하여 가장 높은 점수를 소수 둘째 자리로 반올림하여 구하시오."
      ]
    },
    {
      "cell_type": "code",
      "execution_count": null,
      "metadata": {
        "id": "1tOKaHuEXwN9"
      },
      "outputs": [],
      "source": [
        "# 데이터 불러오기\n",
        "import pandas as pd\n",
        "\n",
        "file = '/content/drive/MyDrive/Colab Notebooks/dataset/students_scores.csv'\n",
        "\n",
        "df = pd.read_csv(file) #, encoding='cp949'\n",
        "print(df.head())"
      ]
    },
    {
      "cell_type": "code",
      "source": [
        "# 경축치 확인\n",
        "df.info()"
      ],
      "metadata": {
        "id": "m9vI4lW-GwNv"
      },
      "execution_count": null,
      "outputs": []
    },
    {
      "cell_type": "code",
      "source": [
        "df.describe()"
      ],
      "metadata": {
        "id": "ybfBI3iNG3aC"
      },
      "execution_count": null,
      "outputs": []
    },
    {
      "cell_type": "code",
      "source": [
        "df.head()"
      ],
      "metadata": {
        "id": "u_pPBAIPHWIo"
      },
      "execution_count": null,
      "outputs": []
    },
    {
      "cell_type": "code",
      "source": [
        "# 강의 코드\n",
        "\n"
      ],
      "metadata": {
        "id": "t2KlMwD5MuBY"
      },
      "execution_count": null,
      "outputs": []
    },
    {
      "cell_type": "code",
      "source": [
        "import pandas as pd\n",
        "\n",
        "#----------------------------------------------------------#\n",
        "# pandas의 read_csv 함수를 통해 데이터프레임 형태로 불러오기\n",
        "# file = \"/dataset/student_scores.csv\"\n",
        "file = \"/content/drive/MyDrive/Colab Notebooks/dataset/students_scores.csv\"\n",
        "df = pd.read_csv(file)\n",
        "#----------------------------------------------------------#\n",
        "\n",
        "# 불필요 칼럼 제외\n",
        "df1 = df.drop(['student id'], axis=1)\n",
        "\n",
        "# 결측치 제거\n",
        "df_drop = df1['Statistics'].dropna()\n",
        "\n",
        "\n",
        "\n",
        "# 점수 표준화\n",
        "mean = df_drop.mean()\n",
        "std = df_drop.std()\n",
        "\n",
        "df_standard = (df_drop - mean) / std\n",
        "\n",
        "# 결과 확인\n",
        "print(df_standard)\n",
        "\n",
        "# 최대값 출력\n",
        "result = round(df_standard.max(), 2)\n",
        "print(result)"
      ],
      "metadata": {
        "id": "0PisUPJNCpEc"
      },
      "execution_count": null,
      "outputs": []
    },
    {
      "cell_type": "markdown",
      "metadata": {
        "id": "EPR_Yi7fCG0O"
      },
      "source": [
        "# 2.\n",
        "\n",
        "주어진 데이터 세트는 물고기 데이터로 무게(Weight), 길이(Length), 높이(Height), 폭(Width)으로 구성되어 있다. 종속변수는 무게이며 나머지는 독립변수이다. 종속변수와 가장 높은 상관관계를 보이는 변수를 찾으시오."
      ]
    },
    {
      "cell_type": "code",
      "execution_count": null,
      "metadata": {
        "id": "z5mC89xNENbH"
      },
      "outputs": [],
      "source": [
        "# 데이터 불러오기\n",
        "import pandas as pd\n",
        "\n",
        "file = '/content/drive/MyDrive/Colab Notebooks/dataset/fish_weight_data.csv'\n",
        "\n",
        "df = pd.read_csv(file) #, encoding='cp949'\n",
        "print(df.head())"
      ]
    },
    {
      "cell_type": "code",
      "source": [
        "import pandas as pd\n",
        "\n",
        "#----------------------------------------------------------#\n",
        "# pandas의 read_csv 함수를 통해 데이터프레임 형태로 불러오기\n",
        "# file = \"/dataset/fish_weight_data.csv\"\n",
        "file = \"/content/drive/MyDrive/Colab Notebooks/dataset/fish_weight_data.csv\"\n",
        "df = pd.read_csv(file)\n",
        "#----------------------------------------------------------#\n",
        "\n",
        "# 불필요 칼럼 제외\n",
        "df1 = df[['Length', 'Height', 'Width', 'FinSize', 'Weight']]\n",
        "\n",
        "# 상관계수 저장\n",
        "df_corr = df1.corr()\n",
        "\n",
        "# 종속변수(무게)와 가장 높은 상관관계를 보이는 변수 출력\n",
        "print(df_corr['Weight'].drop('Weight').idxmax())"
      ],
      "metadata": {
        "id": "-v1mGxz7CtWC"
      },
      "execution_count": null,
      "outputs": []
    },
    {
      "cell_type": "markdown",
      "metadata": {
        "id": "CAnILTlYhyDX"
      },
      "source": [
        "# 3.\n",
        "\n",
        "주어진 데이터 세트는 아파트 가격 데이터이다. 아파트 가격을 결정하는 10개의 독립변수와 1개의 종속변수가 있다. 각 독립변수의 이상치를 사분위수를 기준으로 측정하고 이상치가 가장 많은 독립변수의 이상치 개수를 구하시오. 이때 결측치를 먼저 제거한 후 이상치를 구하시오. (단, 이상치는 (1Q - 1.5IQR)보다 작거나 (3Q + 1.5IQR)보다 큰 값이며, IQR은 Q3에서 Q1을 뺀 값이다.)"
      ]
    },
    {
      "cell_type": "code",
      "source": [
        "import pandas as pd\n",
        "\n",
        "#----------------------------------------------------------#\n",
        "# pandas의 read_csv 함수를 통해 데이터프레임 형태로 불러오기\n",
        "# file = \"/dataset/apartment_prices_dataset.csv\"\n",
        "file = \"/content/drive/MyDrive/Colab Notebooks/dataset/apartment_prices_dataset.csv\"\n",
        "df = pd.read_csv(file)\n",
        "#----------------------------------------------------------#\n",
        "\n",
        "# 결측치 제거\n",
        "df1 = df.dropna()\n",
        "\n",
        "# 타겟 변수를 제외하고 사분위수 측정을 위한 럼 저장\n",
        "cols = df1.drop('Price', axis=1).columns\n",
        "\n",
        "# 데이터프레임 형태\n",
        "col_cnt = []\n",
        "\n",
        "for a in cols:\n",
        "    Q1, Q3 = df1[a].quantile([0.25, 0.75])\n",
        "    IQR = Q3 - Q1\n",
        "    cnt = ((df1[a] < (Q1 - 1.5 * IQR)) | (df1[a] > (Q3 + 1.5 * IQR))).sum()\n",
        "\n",
        "    # 리스트에 변수명과 이상치 개수를 저장\n",
        "    col_cnt.append([a, cnt])\n",
        "\n",
        "# 리스트를 데이터프레임으로 변환\n",
        "df_result = pd.DataFrame(col_cnt, columns=['Column', 'Outlier_Count'])\n",
        "\n",
        "# 결과 확인\n",
        "df_result.max()['Outlier_Count']"
      ],
      "metadata": {
        "id": "Vxxb1oOg6jg8"
      },
      "execution_count": null,
      "outputs": []
    },
    {
      "cell_type": "markdown",
      "metadata": {
        "id": "OJlIubWrisIJ"
      },
      "source": [
        "|변수|설명|\n",
        "|--|--|\n",
        "|Size|아파트 크기 (제곱미터)|\n",
        "|Bedrooms|침실 수|\n",
        "|Bathrooms|욕실 수|\n",
        "|Floor|층수|\n",
        "|Age|아파트 연식|\n",
        "|Distance To Center|도심으로부터의 거리(km)|\n",
        "|Nearby Schools|근처 학교 수|\n",
        "|Nearby Parks|근처 공원 수|\n",
        "|Public Transport|대중교통 접근성|\n",
        "|Safety Index|안전 지수|\n",
        "|Price|아파트 가격 : Y|\n"
      ]
    },
    {
      "cell_type": "code",
      "execution_count": null,
      "metadata": {
        "id": "eu_HERurh6Of"
      },
      "outputs": [],
      "source": [
        "# 데이터 불러오기\n",
        "import pandas as pd\n",
        "\n",
        "# file = '/content/drive/MyDrive/Colab Notebooks/파이썬 작업형/dataset/apartment_prices_dataset.csv'\n",
        "file = \"/content/drive/MyDrive/Colab Notebooks/dataset/apartment_prices_dataset.csv\"\n",
        "\n",
        "df = pd.read_csv(file) #, encoding='cp949'\n",
        "print(df.head())"
      ]
    },
    {
      "cell_type": "code",
      "source": [
        "import pandas as pd\n",
        "\n",
        "#----------------------------------------------------------#\n",
        "# pandas의 read_csv 함수를 통해 데이터프레임 형태로 불러오기\n",
        "file = \"/dataset/apartment_prices_dataset.csv\"\n",
        "file = \"/content/drive/MyDrive/Colab Notebooks/dataset/apartment_prices_dataset.csv\"\n",
        "df = pd.read_csv(file)\n",
        "#----------------------------------------------------------#\n",
        "\n",
        "# 결측치 제거\n",
        "df1 = df.dropna()\n",
        "\n",
        "# 타겟 변수를 제외하고 사분위수 측정을 위한 럼 저장\n",
        "cols = df1.drop('Price', axis=1).columns\n",
        "\n",
        "# 데이터프레임 형태\n",
        "col_cnt = []\n",
        "\n",
        "for a in cols:\n",
        "    Q1, Q3 = df1[a].quantile([0.25, 0.75])\n",
        "    IQR = Q3 - Q1\n",
        "    cnt = ((df1[a] < (Q1 - 1.5 * IQR)) | (df1[a] > (Q3 + 1.5 * IQR))).sum()\n",
        "\n",
        "    # 리스트에 변수명과 이상치 개수를 저장\n",
        "    col_cnt.append([a, cnt])\n",
        "\n",
        "# 리스트를 데이터프레임으로 변환\n",
        "df_result = pd.DataFrame(col_cnt, columns=['Column', 'Outlier_Count'])\n",
        "\n",
        "# 결과 확인\n",
        "df_result.max()['Outlier_Count']"
      ],
      "metadata": {
        "id": "nlO0ffZqCxor"
      },
      "execution_count": null,
      "outputs": []
    },
    {
      "cell_type": "markdown",
      "metadata": {
        "id": "yXznrBc6XAaz"
      },
      "source": [
        "# 4.\n",
        "\n",
        "주어진 데이터 세트는 소방서별 신고접수시간, 출발시간, 도착시간이다. 신고접수 후 출발시간까지를 대응시간, 출발시간에서 도착시간까지를 출동시간이라고 할 때 소방서별 출동시간과 평균이 가장 큰 소방서의 출동시간 평균을 구하시오. (단, 반올림하여 소수점 둘째 자리까지 계산한다.)\n"
      ]
    },
    {
      "cell_type": "markdown",
      "metadata": {
        "id": "x6Y-hunQXUO8"
      },
      "source": [
        "|소방서ID|신고접수시간|출발시간|도착시간|\n",
        "|--|--|--|--|\n",
        "|StationS|2023-07-08 21:05|2023-07-08 21:09|2023-07-08 21:37|\n",
        "|StationI|2023-06-04 08:11|2023-06-04 08:14|2023-06-04 08:58|\n",
        "|StationJ|2023-01-31 16:20|2023-01-31 16:23|2023-01-31 16:44|\n",
        "|StationD|2023-03-10 17:31|2023-03-10 17:32|2023-03-10 18:03|\n",
        "|StationB|2023-06-18 07:23|2023-06-18 07:26|2023-06-18 08:18|"
      ]
    },
    {
      "cell_type": "code",
      "execution_count": null,
      "metadata": {
        "id": "lmpTI_5kXAG1"
      },
      "outputs": [],
      "source": [
        "# 데이터 불러오기\n",
        "import pandas as pd\n",
        "\n",
        "# file = '/content/drive/MyDrive/Colab Notebooks/파이썬 작업형/dataset/Fire Station Data.csv'\n",
        "file = \"/content/drive/MyDrive/Colab Notebooks/dataset/Fire Station Data.csv\"\n",
        "\n",
        "df = pd.read_csv(file, encoding='cp949') #, encoding='cp949'\n",
        "print(df.head())"
      ]
    },
    {
      "cell_type": "code",
      "source": [
        "import pandas as pd\n",
        "\n",
        "#----------------------------------------------------------#\n",
        "# pandas의 read_csv 함수를 통해 데이터프레임 형태로 불러오기\n",
        "#file = \"/dataset/Fire Station Data.csv\"\n",
        "file = \"/content/drive/MyDrive/Colab Notebooks/dataset/Fire Station Data.csv\"\n",
        "df = pd.read_csv(file)\n",
        "#----------------------------------------------------------#\n",
        "\n",
        "df1 = df.copy()\n",
        "\n",
        "# 문자로 되어있는 날짜 변수들의 타입 변경\n",
        "df1['신고접수시간'] = pd.to_datetime(df1['신고접수시간'])\n",
        "df1['출발시간'] = pd.to_datetime(df1['출발시간'])\n",
        "df1['도착시간'] = pd.to_datetime(df1['도착시간'])\n",
        "\n",
        "# 대응시간, 출동시간\n",
        "df1['대응시간'] = df1['출발시간'] - df1['신고접수시간']\n",
        "df1['출동시간'] = df1['도착시간'] - df1['출발시간']\n",
        "\n",
        "# 대응시간, 출동시간을 초로 변환\n",
        "df1['대응시간'] = df1['대응시간'].dt.total_seconds()\n",
        "df1['출동시간'] = df1['출동시간'].dt.total_seconds()\n",
        "\n",
        "# 소방서 별 출동시간의 평균 구하기\n",
        "df2 = df1.groupby('소방서ID')['출동시간'].mean().sort_values(ascending=False)\n",
        "\n",
        "# 가장 큰 값을 가지는 소방서의 출동시간 출력\n",
        "print(round(df2['출동시간'].max(), 2))"
      ],
      "metadata": {
        "id": "y6V-my7yC0ER"
      },
      "execution_count": null,
      "outputs": []
    },
    {
      "cell_type": "markdown",
      "metadata": {
        "id": "Z0IUEUFmilNq"
      },
      "source": [
        "# 5.\n",
        "\n",
        "주어진 데이터 세트는 초등학교 학년별 학생 수와 교사 수이다. 교사 1인당 학생 수가 가장 많은 학교를 찾은 후 그 학교의 전체 학생 수를 구하시오."
      ]
    },
    {
      "cell_type": "markdown",
      "metadata": {
        "id": "a0LZIHPojCCq"
      },
      "source": [
        "|School Name|1G Students|2G Students|3G Students|4G Students|5G Students|6G Students|Teachers|\n",
        "|--|--|--|--|--|--|--|--|\n",
        "|ES1|64|48|84|78|24|38|15|\n",
        "|ES2|58|62|82|73|42|63|15|\n",
        "|ES3|64|79|99|49|80|73|23|\n",
        "|ES4|60|96|48|69|47|26|18|\n",
        "|ES5|56|71|69|32|33|100|22|\n",
        "|ES6|86|41|56|70|57|60|16|\n",
        "|ES7|90|100|93|53|43|76|18|\n",
        "|ES8|87|54|40|29|33|72|13|\n",
        "|ES9|26|24|69|62|70|69|19|\n",
        "|ES10|21|68|72|76|49|84|24|\n"
      ]
    },
    {
      "cell_type": "code",
      "execution_count": null,
      "metadata": {
        "id": "Uh9tnc6JirHF"
      },
      "outputs": [],
      "source": [
        "# 데이터 불러오기\n",
        "import pandas as pd\n",
        "\n",
        "# file = '/content/drive/MyDrive/Colab Notebooks/파이썬 작업형/dataset/Elementary School Data.csv'\n",
        "file = \"/content/drive/MyDrive/Colab Notebooks/dataset/Elementary School Data.csv\"\n",
        "df = pd.read_csv(file) #, encoding='cp949'\n",
        "print(df.head())"
      ]
    },
    {
      "cell_type": "code",
      "source": [
        "import pandas as pd\n",
        "\n",
        "#----------------------------------------------------------#\n",
        "# pandas의 read_csv 함수를 통해 데이터프레임 형태로 불러오기\n",
        "# file = \"/dataset/Elementary School Data.csv\"\n",
        "file = \"/content/drive/MyDrive/Colab Notebooks/dataset/Elementary School Data.csv\"\n",
        "df = pd.read_csv(file)\n",
        "#----------------------------------------------------------#\n",
        "\n",
        "df1 = df.copy()\n",
        "\n",
        "# 전체 학생 수 구하기\n",
        "df1['Students'] = df.drop(['School Name', 'Teachers'], axis=1).sum(axis=1)\n",
        "\n",
        "# 교사 1인당 학생 수\n",
        "df1['Student per Teachers'] = df1['Students'] / df1['Teachers']\n",
        "\n",
        "# 1인당 학생 수가 많은 학교의 전체 학생 수\n",
        "result = df1.loc[df1['Student per Teachers'].idxmax()]['Students']\n",
        "print(result)"
      ],
      "metadata": {
        "id": "9p4pK4LRC2C8"
      },
      "execution_count": null,
      "outputs": []
    },
    {
      "cell_type": "markdown",
      "metadata": {
        "id": "cGWU5Wgql9el"
      },
      "source": [
        "# 6.\n",
        "\n",
        "주어진 데이터 세트는 경찰서별 월별 발생한 범죄 데이터이다. 2021년 대비 2022년의 연평균 범죄율이 가장 많이 늘어난 경찰서(Police Station)의 2021년 교통범죄(Traffic Crimes) 데이터를 구하시오.\n",
        "\n"
      ]
    },
    {
      "cell_type": "markdown",
      "metadata": {
        "id": "1oc6hEP5mANf"
      },
      "source": [
        "|Police Station|Year–Month|Violent|Theft|Traffic|Security|Election|Military|Other|\n",
        "|--|--|--|--|--|--|--|--|--|\n",
        "|PS 1|2021-01-31|36|42|42|6|18|13|17|\n",
        "|PS 1|2021-02-28|25|21|32|2|15|35|47|\n",
        "|PS 1|2021-03-31|45|7|45|6|35|27|26|\n",
        "|PS 1|2021-04-30|30|8|11|8|33|27|43|\n",
        "|PS 1|2021-05-31|45|7|35|12|35|46|47|\n",
        "|PS 1|2021-06-30|45|7|45|12|33|15|48|\n",
        "|PS 1|2021-07-31|45|7|35|12|33|27|43|\n",
        "|PS 1|2021-08-31|30|8|11|8|35|46|43|\n",
        "|PS 1|2021-09-30|7|11|9|5|42|35|24|\n"
      ]
    },
    {
      "cell_type": "code",
      "execution_count": null,
      "metadata": {
        "id": "9ahRA17_l_kp"
      },
      "outputs": [],
      "source": [
        "# 데이터 불러오기\n",
        "import pandas as pd\n",
        "\n",
        "# file = '/content/drive/MyDrive/Colab Notebooks/파이썬 작업형/dataset/Crime Data.csv'\n",
        "file = \"/content/drive/MyDrive/Colab Notebooks/dataset/Crime Data.csv\"\n",
        "df = pd.read_csv(file) #, encoding='cp949'\n",
        "print(df.head())"
      ]
    },
    {
      "cell_type": "code",
      "source": [
        "df[]"
      ],
      "metadata": {
        "id": "HuDLlf8ehIEI"
      },
      "execution_count": null,
      "outputs": []
    },
    {
      "cell_type": "code",
      "source": [
        "print(df.columns)\n"
      ],
      "metadata": {
        "id": "sC_bRnJ2dYUe"
      },
      "execution_count": null,
      "outputs": []
    },
    {
      "cell_type": "code",
      "source": [
        "print(df.columns)"
      ],
      "metadata": {
        "id": "J2xODwpYbA8w"
      },
      "execution_count": null,
      "outputs": []
    },
    {
      "cell_type": "code",
      "source": [
        "df2 = df[['Police Station', 'Year', 'Traffic', 'Total']].groupby(by=['Police Station', 'Year']).sum(['Traffic', 'Total']).reset_index()"
      ],
      "metadata": {
        "id": "ix5nDoizfJEl"
      },
      "execution_count": null,
      "outputs": []
    },
    {
      "cell_type": "code",
      "source": [
        "df21 = df2[df2['Year'] == 2021]\n",
        "df22 = df2[df2['Year'] == 2022]"
      ],
      "metadata": {
        "id": "d3ICJBpmgYOr"
      },
      "execution_count": null,
      "outputs": []
    },
    {
      "cell_type": "code",
      "source": [
        "import pandas as pd\n",
        "\n",
        "# 파일 불러오기\n",
        "file = \"/content/drive/MyDrive/Colab Notebooks/dataset/Crime Data.csv\"\n",
        "df = pd.read_csv(file)\n",
        "\n",
        "# 데이터 복사\n",
        "df1 = df.copy()\n",
        "\n",
        "# 날짜 데이터를 연도로 변환\n",
        "df1['Year-Month'] = pd.to_datetime(df1['Year-Month'])\n",
        "df1['Year'] = df1['Year-Month'].dt.year\n",
        "\n",
        "# 월별 범죄 데이터 합산 칼럼 생성\n",
        "df1['Total'] = df1.loc[:, 'Violent':'Other'].sum(axis=1)\n",
        "\n",
        "# 경찰서의 연도별 트래픽 및 범죄 데이터 생성 (sum 함수 수정)\n",
        "df2 = df1[['Police Station', 'Year', 'Traffic', 'Total']].groupby(by=['Police Station', 'Year']).sum().reset_index()\n",
        "\n",
        "# merge를 사용한 데이터 병합\n",
        "df21 = df2[df2['Year'] == 2021][['Police Station', 'Year', 'Total', 'Traffic']]\n",
        "df22 = df2[df2['Year'] == 2022][['Police Station', 'Year', 'Total']]\n",
        "df3 = pd.merge(df21, df22, on='Police Station', suffixes=('_2021', '_2022'))\n",
        "\n",
        "# 가장 많이 늘어난 경찰서 가져오기\n",
        "df3['Increase'] = df3['Total_2022'] - df3['Total_2021']\n",
        "most_increase_station = df3.loc[df3['Increase'].idxmax(), 'Police Station']\n",
        "\n",
        "# 결과 출력\n",
        "print(most_increase_station)"
      ],
      "metadata": {
        "id": "jbYMuhWFebbH"
      },
      "execution_count": null,
      "outputs": []
    },
    {
      "cell_type": "code",
      "source": [
        "import pandas as pd\n",
        "\n",
        "#----------------------------------------------------------#\n",
        "# pandas의 read_csv 함수를 통해 데이터프레임 형태로 불러오기\n",
        "file = \"/content/drive/MyDrive/Colab Notebooks/dataset/Crime Data.csv\"\n",
        "df = pd.read_csv(file)\n",
        "#----------------------------------------------------------#\n",
        "\n",
        "df1 = df.copy()\n",
        "\n",
        "# 월 데이터를 연도 데이터로 변환\n",
        "df1['Year-Month'] = pd.to_datetime(df1['Year-Month'])\n",
        "df1['Year'] = df1['Year-Month'].dt.year\n",
        "\n",
        "# 월별 범죄 데이터 합산 칼럼 생성\n",
        "df1['Total'] = df1.loc[:, 'Violent':'Other'].sum(axis=1)\n",
        "print(df1.head())\n",
        "\n",
        "# 경찰서의 연도 별 트래픽 및 범죄 데이터 생성\n",
        "df2 = df1[['Police Station', 'Year', 'Traffic', 'Total']].groupby(by=['Police Station', 'Year']).sum(['Traffic', 'Total']).reset_index()\n",
        "\n",
        "# merge를 사용한 데이터 병합\n",
        "df21 = df2[df2['Year'] == 2021][['Police Station', 'Year', 'Total']]\n",
        "df22 = df2[df2['Year'] == 2022][['Police Station', 'Year', 'Total']]\n",
        "df3 = pd.merge(df21, df22, on='Police Station')\n",
        "\n",
        "# 가장 많이 늘어난 경찰서 가져오기\n",
        "df3['Increase'] = df3['Total_y'] - df3['Total_x']\n",
        "most_increase_station = df3[df3['Increase'].idxmax()]['Police Station'].values\n",
        "print(most_increase_station )\n"
      ],
      "metadata": {
        "id": "w7Cxcyy1C3_u"
      },
      "execution_count": null,
      "outputs": []
    }
  ],
  "metadata": {
    "colab": {
      "private_outputs": true,
      "provenance": [],
      "include_colab_link": true
    },
    "kernelspec": {
      "display_name": "Python 3",
      "name": "python3"
    },
    "language_info": {
      "name": "python"
    }
  },
  "nbformat": 4,
  "nbformat_minor": 0
}