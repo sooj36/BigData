{
  "nbformat": 4,
  "nbformat_minor": 0,
  "metadata": {
    "colab": {
      "private_outputs": true,
      "provenance": []
    },
    "kernelspec": {
      "name": "python3",
      "display_name": "Python 3"
    },
    "language_info": {
      "name": "python"
    }
  },
  "cells": [
    {
      "cell_type": "markdown",
      "source": [
        "# 작업형 제 2 유형(Python)"
      ],
      "metadata": {
        "id": "w2TlHdVca9ym"
      }
    },
    {
      "cell_type": "code",
      "source": [
        "# from google.colab import files\n",
        "# uploaded = files.upload()"
      ],
      "metadata": {
        "id": "oizlTyzzAFqs"
      },
      "execution_count": null,
      "outputs": []
    },
    {
      "cell_type": "code",
      "source": [
        "from google.colab import drive\n",
        "drive.mount('/content/drive')"
      ],
      "metadata": {
        "id": "NlPpvaGCAB4r"
      },
      "execution_count": null,
      "outputs": []
    },
    {
      "cell_type": "markdown",
      "source": [
        "# 1.\n",
        "\n",
        "회사에서 신규 영업지점을 설립하려고 한다. 기존 영업지점 데이터를 이용하여 신규 영업지점을 설립할 경우 달성 가능한 매출을 예측하여 의사결정에 사용할 계획이다. 주어진 훈련 데이터 세트를 활용하여 매출 예측 머신러닝 모델을 구축하고, 테스트 데이터를 대상으로 매출을 예측한 결과를 CSV 파일로 제출하시오.\n",
        "\n",
        "※ 결과 제출 양식 : 예측한 Sales 데이터를 기준으로 RMSE를 계산하여 채점에 활용할 예정"
      ],
      "metadata": {
        "id": "kwIRQp2rEdh4"
      }
    },
    {
      "cell_type": "markdown",
      "source": [
        "|Branch Name|Sales|\n",
        "|--|--|\n",
        "|지점1| |\n",
        "|지점2| |\n",
        "|...|...|\n"
      ],
      "metadata": {
        "id": "YYput65MxHyh"
      }
    },
    {
      "cell_type": "markdown",
      "source": [
        "|변수|설명|\n",
        "|--|--|\n",
        "|Branch Name|지점 이름|\n",
        "|City|지역|\n",
        "|Population|지역 인구|\n",
        "|Income Generating Pop Ratio|소득활용 인구비율|\n",
        "|Average Income|지역 평균 소득|\n",
        "|Industry Type|지역산업 종류|\n",
        "|Sales|매출|"
      ],
      "metadata": {
        "id": "o8vOpbecy3MT"
      }
    },
    {
      "cell_type": "code",
      "source": [
        "# 출력을 원하실 경우 print() 함수 활용\n",
        "# 예시) print(df.head())\n",
        "\n",
        "# getcwd(), chdir() 등 작업 폴더 설정 불필요\n",
        "# 파일 경로 상 내부 드라이브 경로(C: 등) 접근 불가\n",
        "\n",
        "# 데이터 파일 읽기 예제\n",
        "import pandas as pd\n",
        "\n",
        "#train = '/content/drive/MyDrive/Colab Notebooks/파이썬 작업형 - Full/dataset/sales_train_dataset.csv'\n",
        "train = '/content/sales_train_dataset.csv'\n",
        "#test = '/content/drive/MyDrive/Colab Notebooks/파이썬 작업형 - Full/dataset/sales_test_dataset_x.csv'\n",
        "test = '/content/sales_test_dataset_x.csv'\n",
        "\n",
        "X_train = pd.read_csv(train) #, encoding='cp949'\n",
        "X_test = pd.read_csv(test) #, encoding='cp949'\n",
        "\n",
        "# 사용자 코딩\n",
        "\n",
        "# 답안 제출 참고\n",
        "# 아래 코드 예측변수와 수험번호를 개인별로 변경하여 활용\n",
        "# pd.DataFrame({'index': X_test.index, 'y_pred : pred'}).to_csv('003000000.csv', index=False)\n"
      ],
      "metadata": {
        "id": "1tOKaHuEXwN9"
      },
      "execution_count": null,
      "outputs": []
    },
    {
      "cell_type": "code",
      "source": [
        "# 출력을 원하실 경우 print() 함수 활용\n",
        "# 예시) print(df.head())\n",
        "\n",
        "# getcwd(), chdir() 등 작업 폴더 설정 불필요\n",
        "# 파일 경로 상 내부 드라이브 경로(C: 등) 접근 불가\n",
        "\n",
        "# 데이터 파일 읽기 예제\n",
        "import pandas as pd\n",
        "\n",
        "#train = '/dataset/sales_train_dataset.csv'\n",
        "train = '/content/sales_train_dataset.csv'\n",
        "#test = '/dataset/sales_test_dataset_x.csv'\n",
        "test = '/content/sales_test_dataset_x.csv'\n",
        "\n",
        "X_train = pd.read_csv(train) #, encoding='cp949'\n",
        "X_test = pd.read_csv(test) #, encoding='cp949'\n",
        "\n",
        "# 사용자 코딩\n",
        "\n",
        "# 답안 제출 참고\n",
        "# 아래 코드 예측변수와 수험번호를 개인별로 변경하여 활용\n",
        "# pd.DataFrame({'index': X_test.index, 'y_pred : pred'}).to_csv('003000000.csv', index=False)\n",
        "\n",
        "# 이상치 제거\n",
        "X_train = X_train.dropna()\n",
        "X_train.head()\n",
        "\n",
        "# 파생변수 생성\n",
        "X_train['AverageIncome_to_Population_Ratio'] = X_train['AverageIncome'] / X_train['Population']\n",
        "X_test['AverageIncome_to_Population_Ratio'] = X_test['AverageIncome'] / X_test['Population']\n",
        "\n",
        "# 연속형 및 범주형 변수 구분\n",
        "col_drop = ['BranchName']\n",
        "col_num = ['Population', 'IncomeGeneratingPopRatio', 'AverageIncome', 'AverageIncome_to_Population_Ratio']\n",
        "col_cat = ['City', 'IndustryType']\n",
        "col_y = ['Sales']\n",
        "\n",
        "# 데이터 분할\n",
        "xtrain = X_train[col_num + col_cat]\n",
        "ytrain = X_train[col_y]\n",
        "\n",
        "from sklearn.model_selection import train_test_split\n",
        "X_tr, X_val, y_tr, y_val = train_test_split(X_train[col_num + col_cat], X_train[col_y], test_size=0.3, random_state=1)\n",
        "\n",
        "# 데이터 스케일링 - 연속형\n",
        "from sklearn.preprocessing import StandardScaler\n",
        "scaler = StandardScaler()\n",
        "scaler.fit(X_tr[col_num])\n",
        "X_tr[col_num] = scaler.transform(X_tr[col_num])\n",
        "X_val[col_num] = scaler.transform(X_val[col_num])\n",
        "X_test[col_num] = scaler.transform(X_test[col_num])\n",
        "\n",
        "# 데이터 인코딩 - 범주형\n",
        "from sklearn.preprocessing import LabelEncoder\n",
        "X = pd.concat([X_train[col_cat], X_test[col_cat]])\n",
        "for feature in col_cat:\n",
        "    le = LabelEncoder()\n",
        "    le.fit(X[feature])\n",
        "    X_tr[feature] = le.transform(X_tr[feature])\n",
        "    X_val[feature] = le.transform(X_val[feature])\n",
        "    X_test[feature] = le.transform(X_test[feature])\n",
        "\n",
        "# 모델 학습\n",
        "from sklearn.ensemble import RandomForestRegressor\n",
        "model_rf = RandomForestRegressor(random_state=1)\n",
        "model_rf.fit(X_tr, y_tr)\n",
        "\n",
        "from xgboost import XGBRegressor\n",
        "model_xgb = XGBRegressor()\n",
        "model_xgb.fit(X_tr, y_tr)\n",
        "\n",
        "# 모델 예측\n",
        "y_pred_rf = model_rf.predict(X_val)\n",
        "y_pred_xgb = model_xgb.predict(X_val)\n",
        "\n",
        "# 모델 평가\n",
        "import numpy as np\n",
        "from sklearn.metrics import mean_squared_error\n",
        "score_rf = mean_squared_error(y_val, y_pred_rf)\n",
        "score_xgb = mean_squared_error(y_val, y_pred_xgb)\n",
        "\n",
        "# 최종 예측\n",
        "pred = model_xgb.predict(X_test[col_num+col_cat])\n",
        "result = pd.DataFrame({'BranchName': X_test.BranchName, 'Sales' : pred})\n",
        "\n",
        "# 예측 결과 저장\n",
        "result.to_csv('./result_sales.csv', index=False)"
      ],
      "metadata": {
        "id": "pR3WImgBreFC"
      },
      "execution_count": null,
      "outputs": []
    },
    {
      "cell_type": "code",
      "source": [
        "print(X_train.head())"
      ],
      "metadata": {
        "id": "ZwF01DkJw_XC"
      },
      "execution_count": null,
      "outputs": []
    },
    {
      "cell_type": "code",
      "source": [
        "# 결측치가 있음을 확인\n",
        "print(X_train.info())\n",
        "\n",
        "print(X_test.info())"
      ],
      "metadata": {
        "id": "p4PG65MnY6ox"
      },
      "execution_count": null,
      "outputs": []
    },
    {
      "cell_type": "code",
      "source": [
        "print(X_train.describe())"
      ],
      "metadata": {
        "id": "9wL7zcvjY84y"
      },
      "execution_count": null,
      "outputs": []
    },
    {
      "cell_type": "code",
      "source": [
        "# 이상치 제거\n",
        "\n",
        "X_train = X_train.dropna()\n",
        "X_train.head()"
      ],
      "metadata": {
        "id": "3LIFDqQx0EZW"
      },
      "execution_count": null,
      "outputs": []
    },
    {
      "cell_type": "code",
      "source": [
        "# 파생변수 생성\n",
        "X_train['AverageIncome_to_Population_Ratio'] = X_train['AverageIncome'] / X_train['Population']\n",
        "X_test['AverageIncome_to_Population_Ratio'] = X_test['AverageIncome'] / X_test['Population']"
      ],
      "metadata": {
        "id": "9BoIjzVn0el9"
      },
      "execution_count": null,
      "outputs": []
    },
    {
      "cell_type": "code",
      "source": [
        "# 연속형 및 범주형 변수 구분\n",
        "\n",
        "col_drop = ['BranchName']\n",
        "col_num = ['Population', 'IncomeGeneratingPopRatio', 'AverageIncome', 'AverageIncome_to_Population_Ratio']\n",
        "col_cat = ['City', 'IndustryType']\n",
        "col_y = ['Sales']\n",
        "\n",
        "# X_train[col_cat] = X_train[col_cat].astype(str)\n",
        "# X_test[col_cat] = X_test[col_cat].astype(str)\n",
        "\n",
        "# X_train[col_num] = X_train[col_num].astype(float)\n",
        "# X_test[col_num] = X_test[col_num].astype(float)\n"
      ],
      "metadata": {
        "id": "yCrGU6Zf0i8E"
      },
      "execution_count": null,
      "outputs": []
    },
    {
      "cell_type": "code",
      "source": [
        "# 데이터 분할\n",
        "\n",
        "xtrain = X_train[col_num + col_cat]\n",
        "ytrain = X_train[col_y]\n",
        "\n",
        "print(xtrain)\n",
        "print(ytrain)"
      ],
      "metadata": {
        "id": "jUz4B_hR17ZF"
      },
      "execution_count": null,
      "outputs": []
    },
    {
      "cell_type": "code",
      "source": [
        "from sklearn.model_selection import train_test_split\n",
        "\n",
        "X_tr, X_val, y_tr, y_val = train_test_split(X_train[col_num + col_cat], X_train[col_y], test_size=0.3, random_state=1)\n",
        "\n",
        "# train 데이터를 검증하기 위한 학습 검증 데이터 분리\n",
        "# 학습 검증 데이터를 7대 3으로 분리하고\n",
        "# y_train 데이터셋의 클래스 비율을 유지하여 분리"
      ],
      "metadata": {
        "id": "5-Oo6bBk2EnE"
      },
      "execution_count": null,
      "outputs": []
    },
    {
      "cell_type": "code",
      "source": [
        "# 데이터 스케일링 - 연속형\n",
        "\n",
        "from sklearn.preprocessing import StandardScaler\n",
        "\n",
        "scaler = StandardScaler()\n",
        "X_tr[col_num] = scaler.fit_transform(X_tr[col_num])\n",
        "X_val[col_num] = scaler.transform(X_val[col_num])\n",
        "X_test[col_num] = scaler.transform(X_test[col_num])\n",
        "\n",
        "# 또는\n",
        "\n",
        "scaler = StandardScaler()\n",
        "scaler.fit(X_tr[col_num])\n",
        "X_tr[col_num] = scaler.transform(X_tr[col_num])\n",
        "X_val[col_num] = scaler.transform(X_val[col_num])\n",
        "X_test[col_num] = scaler.transform(X_test[col_num])"
      ],
      "metadata": {
        "id": "PVI66xHi2e2u"
      },
      "execution_count": null,
      "outputs": []
    },
    {
      "cell_type": "code",
      "source": [
        "# 데이터 인코딩 - 범주형\n",
        "\n",
        "from sklearn.preprocessing import LabelEncoder\n",
        "\n",
        "X = pd.concat([X_train[col_cat], X_test[col_cat]])\n",
        "\n",
        "for feature in col_cat:\n",
        "    le = LabelEncoder()\n",
        "    le.fit(X[feature])\n",
        "    X_tr[feature] = le.transform(X_tr[feature])\n",
        "    X_val[feature] = le.transform(X_val[feature])\n",
        "    X_test[feature] = le.transform(X_test[feature])"
      ],
      "metadata": {
        "id": "d5i9Xare2tY3"
      },
      "execution_count": null,
      "outputs": []
    },
    {
      "cell_type": "code",
      "source": [
        "print(X_tr)"
      ],
      "metadata": {
        "id": "admBWdk43jSl"
      },
      "execution_count": null,
      "outputs": []
    },
    {
      "cell_type": "code",
      "source": [
        "# 모델 학습\n",
        "\n",
        "from sklearn.ensemble import RandomForestRegressor\n",
        "\n",
        "model_rf = RandomForestRegressor(random_state=1)\n",
        "model_rf.fit(X_tr, y_tr)\n",
        "\n",
        "\n",
        "from xgboost import XGBRegressor\n",
        "\n",
        "model_xgb = XGBRegressor()\n",
        "model_xgb.fit(X_tr, y_tr)"
      ],
      "metadata": {
        "id": "tRkcz7h27SGG"
      },
      "execution_count": null,
      "outputs": []
    },
    {
      "cell_type": "code",
      "source": [
        "y_pred_rf = model_rf.predict(X_val)\n",
        "y_pred_xgb = model_xgb.predict(X_val)\n",
        "\n",
        "print(y_pred_rf)\n",
        "print(y_pred_xgb)"
      ],
      "metadata": {
        "id": "2VS-JXb07SXn"
      },
      "execution_count": null,
      "outputs": []
    },
    {
      "cell_type": "code",
      "source": [
        "# 모델 평가\n",
        "import numpy as np\n",
        "from sklearn.metrics import mean_squared_error\n",
        "\n",
        "score_rf = mean_squared_error(y_val, y_pred_rf)\n",
        "score_xgb = mean_squared_error(y_val, y_pred_xgb)\n",
        "\n",
        "print(\"RF  :\",np.sqrt(score_rf))\n",
        "print(\"XGB :\",np.sqrt(score_xgb))"
      ],
      "metadata": {
        "id": "7E7NnZub7tdm"
      },
      "execution_count": null,
      "outputs": []
    },
    {
      "cell_type": "code",
      "source": [
        "# 모델 2\n",
        "model_xgb2 = XGBRegressor(n_estimators=50, max_depth=5, random_state=1)\n",
        "model_xgb2.fit(X_tr, y_tr)\n",
        "y_pred_xgb2 = model_xgb2.predict(X_val)\n",
        "score_xgb2 = mean_squared_error(y_val, y_pred_xgb2)\n",
        "\n",
        "# 모델 3\n",
        "model_xgb3 = XGBRegressor(n_estimators=50, max_depth=10, random_state=1)\n",
        "model_xgb3.fit(X_tr, y_tr)\n",
        "y_pred_xgb3 = model_xgb3.predict(X_val)\n",
        "score_xgb3 = mean_squared_error(y_val, y_pred_xgb3)\n",
        "\n",
        "# 모델 4\n",
        "model_xgb4 = XGBRegressor(n_estimators=100, max_depth=10, random_state=1)\n",
        "model_xgb4.fit(X_tr, y_tr)\n",
        "y_pred_xgb4 = model_xgb4.predict(X_val)\n",
        "score_xgb4 = mean_squared_error(y_val, y_pred_xgb4)\n",
        "\n",
        "# 모델 5\n",
        "model_xgb5 = XGBRegressor(n_estimators=100, max_depth=10, random_state=1)\n",
        "model_xgb5.fit(X_tr, y_tr)\n",
        "y_pred_xgb5 = model_xgb5.predict(X_val)\n",
        "score_xgb5 = mean_squared_error(y_val, y_pred_xgb5)\n",
        "\n",
        "print(np.sqrt(score_xgb2))\n",
        "print(np.sqrt(score_xgb3))\n",
        "print(np.sqrt(score_xgb4))\n",
        "print(np.sqrt(score_xgb5))"
      ],
      "metadata": {
        "id": "woN2gt9H75kv"
      },
      "execution_count": null,
      "outputs": []
    },
    {
      "cell_type": "code",
      "source": [
        "# 최종 예측\n",
        "\n",
        "pred = model_xgb2.predict(X_test[col_num+col_cat])\n",
        "result = pd.DataFrame({'BranchName': X_test.BranchName, 'Sales' : pred})\n",
        "print(result)"
      ],
      "metadata": {
        "id": "7gue51UD8cBl"
      },
      "execution_count": null,
      "outputs": []
    },
    {
      "cell_type": "code",
      "source": [
        "result.to_csv('./result_sales.csv', index=False)"
      ],
      "metadata": {
        "id": "6EtUo4VW8q6a"
      },
      "execution_count": null,
      "outputs": []
    },
    {
      "cell_type": "markdown",
      "source": [
        "# 2.\n",
        "\n",
        "다음은 선호하는 메타버스 유형에 대한 데이터 세트이다. 주어진 훈련 데이터 세트를 활용하여 선호하는 메타버스 유형을 분류하는 모델을 구축하고 테스트 데이터 세트를 대상으로 분류한 결과를 CSV 파일로 제출하시오.\n",
        "\n",
        "※ 결과 제출 양식: 제출한 예측값의 macro_f1 결과를 통해 영역별 배점에 따라 최종 점수가 반영될 예정."
      ],
      "metadata": {
        "id": "grYDkQ9Nvzx5"
      }
    },
    {
      "cell_type": "markdown",
      "source": [
        "|id|Preferred Metaverse Type|\n",
        "|--|--|\n",
        "|1|0|\n",
        "|2|1|\n",
        "|3|2|\n",
        "|...|3|\n"
      ],
      "metadata": {
        "id": "-o5I8s0Yv3TM"
      }
    },
    {
      "cell_type": "markdown",
      "source": [
        "|변수|설명|\n",
        "|--|--|\n",
        "|id|번호|\n",
        "|Gender|성(male, female, other)|\n",
        "|Education|교육정도|\n",
        "|Occupation Type|인더스트리|\n",
        "|Residence Type|주거형태|\n",
        "|Experience Using Metaverse|메타버스 사용 경험 유·무|\n",
        "|Age|연령|\n",
        "|Annual Salary|연봉|\n",
        "|Preferred Metaverse Type|메타버스 타입(0, 1, 2, 3) 0–Virtual world / 1–Mirror world / 2–Lifelogging / 3–Augmented reality|\n"
      ],
      "metadata": {
        "id": "wMaEDh4Nv4Rw"
      }
    },
    {
      "cell_type": "code",
      "source": [
        "# 출력을 원하실 경우 print() 함수 활용\n",
        "# 예시) print(df.head())\n",
        "\n",
        "# getcwd(), chdir() 등 작업 폴더 설정 불필요\n",
        "# 파일 경로 상 내부 드라이브 경로(C: 등) 접근 불가\n",
        "\n",
        "# 데이터 파일 읽기 예제\n",
        "import pandas as pd\n",
        "\n",
        "#train = '/content/drive/MyDrive/Colab Notebooks/파이썬 작업형 - Full/dataset/Metaverse Training Data.csv'\n",
        "train = '/content/Metaverse Training Data.csv'\n",
        "#test = '/content/drive/MyDrive/Colab Notebooks/파이썬 작업형 - Full/dataset/Metaverse Testing Data_x.csv'\n",
        "test = '/content/Metaverse Testing Data_x.csv'\n",
        "train = pd.read_csv(train) #, encoding='cp949'\n",
        "test = pd.read_csv(test) #, encoding='cp949'\n",
        "\n",
        "# 사용자 코딩\n",
        "\n",
        "# 답안 제출 참고\n",
        "# 아래 코드 예측변수와 수험번호를 개인별로 변경하여 활용\n",
        "# pd.DataFrame({'index': X_test.index, 'y_pred : pred'}).to_csv('003000000.csv', index=False)\n",
        "print(train.head())"
      ],
      "metadata": {
        "id": "rbJqtbPu8x_t"
      },
      "execution_count": null,
      "outputs": []
    },
    {
      "cell_type": "code",
      "source": [
        "print(train.info())"
      ],
      "metadata": {
        "id": "gIXIdXIswXYK"
      },
      "execution_count": null,
      "outputs": []
    },
    {
      "cell_type": "code",
      "source": [
        "print(train.describe())"
      ],
      "metadata": {
        "id": "tY2g_prUwpyB"
      },
      "execution_count": null,
      "outputs": []
    },
    {
      "cell_type": "code",
      "source": [
        "print(test.info())"
      ],
      "metadata": {
        "id": "vpoq1Mojwq6x"
      },
      "execution_count": null,
      "outputs": []
    },
    {
      "cell_type": "code",
      "source": [
        "# 연속형 및 범주형 변수 구분\n",
        "\n",
        "col_drop = ['id']\n",
        "col_num = ['Age', 'Annual Salary']\n",
        "col_cat = ['Gender', 'Education', 'Occupation Type', 'Residence Type', 'Experience Using Metaverse']\n",
        "col_y = ['Preferred Metaverse Type']\n",
        "\n",
        "# X_train[col_cat] = X_train[col_cat].astype(str)\n",
        "# X_test[col_cat] = X_test[col_cat].astype(str)\n",
        "\n",
        "# X_train[col_num] = X_train[col_num].astype(float)\n",
        "# X_test[col_num] = X_test[col_num].astype(float)\n"
      ],
      "metadata": {
        "id": "8jewLgSGwyqV"
      },
      "execution_count": null,
      "outputs": []
    },
    {
      "cell_type": "code",
      "source": [
        "# 데이터 분할\n",
        "from sklearn.model_selection import train_test_split\n",
        "\n",
        "X_tr, X_val, y_tr, y_val = train_test_split(train[col_num + col_cat], train[col_y], test_size=0.3, stratify=train[col_y].values ,random_state=1)\n",
        "\n",
        "# train 데이터를 검증하기 위한 학습 검증 데이터 분리\n",
        "# 학습 검증 데이터를 7대 3으로 분리하고\n",
        "# y_train 데이터셋의 클래스 비율을 유지하여 분리"
      ],
      "metadata": {
        "id": "nVAmMIsUxPkV"
      },
      "execution_count": null,
      "outputs": []
    },
    {
      "cell_type": "code",
      "source": [
        "# 데이터 스케일링 - 연속형\n",
        "\n",
        "from sklearn.preprocessing import StandardScaler\n",
        "\n",
        "scaler = StandardScaler()\n",
        "X_tr[col_num] = scaler.fit_transform(X_tr[col_num])\n",
        "X_val[col_num] = scaler.transform(X_val[col_num])\n",
        "test[col_num] = scaler.transform(test[col_num])\n",
        "\n",
        "# 또는\n",
        "\n",
        "scaler = StandardScaler()\n",
        "scaler.fit(X_tr[col_num])\n",
        "X_tr[col_num] = scaler.transform(X_tr[col_num])\n",
        "X_val[col_num] = scaler.transform(X_val[col_num])\n",
        "test[col_num] = scaler.transform(test[col_num])"
      ],
      "metadata": {
        "id": "vwVUkXxgyg-u"
      },
      "execution_count": null,
      "outputs": []
    },
    {
      "cell_type": "code",
      "source": [
        "X_tr.head()"
      ],
      "metadata": {
        "id": "uuIDG_Ghztvp"
      },
      "execution_count": null,
      "outputs": []
    },
    {
      "cell_type": "code",
      "source": [
        "# 데이터 인코딩 - 범주형\n",
        "\n",
        "from sklearn.preprocessing import LabelEncoder\n",
        "\n",
        "X = pd.concat([train[col_cat], test[col_cat]])\n",
        "\n",
        "for feature in col_cat:\n",
        "    le = LabelEncoder()\n",
        "    le.fit(X[feature])\n",
        "    X_tr[feature] = le.transform(X_tr[feature])\n",
        "    X_val[feature] = le.transform(X_val[feature])\n",
        "    test[feature] = le.transform(test[feature])\n",
        "\n",
        "    # 라벨링이 어떻게 진행 되어있는지 확인\n",
        "    print(feature)\n",
        "    print(le.classes_)"
      ],
      "metadata": {
        "id": "ytddpGUVyiGU"
      },
      "execution_count": null,
      "outputs": []
    },
    {
      "cell_type": "code",
      "source": [
        "print(X_tr.head())"
      ],
      "metadata": {
        "id": "y_oE4YSIzaEa"
      },
      "execution_count": null,
      "outputs": []
    },
    {
      "cell_type": "code",
      "source": [
        "# 모델 학습\n",
        "\n",
        "# 로지스틱 회귀\n",
        "from sklearn.linear_model import LogisticRegression\n",
        "modelLR = LogisticRegression(random_state=1)\n",
        "modelLR.fit(X_tr, y_tr)\n",
        "\n",
        "# 랜덤 포레스트\n",
        "from sklearn.ensemble import RandomForestClassifier\n",
        "modelRF = RandomForestClassifier(random_state=1)\n",
        "modelRF.fit(X_tr, y_tr)\n",
        "\n",
        "# XGBoost\n",
        "from xgboost import XGBClassifier\n",
        "modelXGB = XGBClassifier(random_state=1)\n",
        "modelXGB.fit(X_tr, y_tr)\n"
      ],
      "metadata": {
        "id": "LEDRERx90ZZf"
      },
      "execution_count": null,
      "outputs": []
    },
    {
      "cell_type": "code",
      "source": [
        "# 모델 예측\n",
        "\n",
        "y_val_predLR = modelLR.predict(X_val)\n",
        "y_val_predRF = modelRF.predict(X_val)\n",
        "y_val_predXGB = modelXGB.predict(X_val)"
      ],
      "metadata": {
        "id": "DOa2bxpI0hO3"
      },
      "execution_count": null,
      "outputs": []
    },
    {
      "cell_type": "code",
      "source": [
        "# 모델 평가\n",
        "\n",
        "from sklearn.metrics import f1_score, accuracy_score\n",
        "help(f1_score)"
      ],
      "metadata": {
        "id": "zeRdJXCR04SA"
      },
      "execution_count": null,
      "outputs": []
    },
    {
      "cell_type": "code",
      "source": [
        "scoreLR = f1_score(y_val, y_val_predLR, average='macro')\n",
        "scoreRF = f1_score(y_val, y_val_predRF, average='macro')\n",
        "scoreXGB = f1_score(y_val, y_val_predXGB, average='macro')\n",
        "\n",
        "print('Logistic Regression: ', scoreLR)\n",
        "print('Random Forest: ', scoreRF)\n",
        "print('XGBoost: ', scoreXGB)"
      ],
      "metadata": {
        "id": "uu8gDFLi0rFz"
      },
      "execution_count": null,
      "outputs": []
    },
    {
      "cell_type": "code",
      "source": [
        "# 모델 2\n",
        "model_xgb2 = XGBClassifier(n_estimators=50, max_depth=5, random_state=1)\n",
        "model_xgb2.fit(X_tr, y_tr)\n",
        "y_pred_xgb2 = model_xgb2.predict(X_val)\n",
        "score_xgb2 = f1_score(y_val, y_pred_xgb2, average='macro')\n",
        "\n",
        "# 모델 3\n",
        "model_xgb3 = XGBClassifier(n_estimators=50, max_depth=10, random_state=1)\n",
        "model_xgb3.fit(X_tr, y_tr)\n",
        "y_pred_xgb3 = model_xgb3.predict(X_val)\n",
        "score_xgb3 = f1_score(y_val, y_pred_xgb3, average='macro')\n",
        "\n",
        "# 모델 4\n",
        "model_xgb4 = XGBClassifier(n_estimators=100, max_depth=10, random_state=1)\n",
        "model_xgb4.fit(X_tr, y_tr)\n",
        "y_pred_xgb4 = model_xgb4.predict(X_val)\n",
        "score_xgb4 = f1_score(y_val, y_pred_xgb4, average='macro')\n",
        "\n",
        "# 모델 5\n",
        "model_xgb5 = XGBClassifier(n_estimators=100, max_depth=10, random_state=1)\n",
        "model_xgb5.fit(X_tr, y_tr)\n",
        "y_pred_xgb5 = model_xgb5.predict(X_val)\n",
        "score_xgb5 = f1_score(y_val, y_pred_xgb5, average='macro')\n",
        "\n",
        "print((score_xgb2))\n",
        "print((score_xgb3))\n",
        "print((score_xgb4))\n",
        "print((score_xgb5))"
      ],
      "metadata": {
        "id": "PCt0il_B2Eut"
      },
      "execution_count": null,
      "outputs": []
    },
    {
      "cell_type": "code",
      "source": [
        "# 최종 예측\n",
        "\n",
        "pred = model_xgb3.predict(test[col_num+col_cat])\n",
        "result = pd.DataFrame({'ID': test.id, 'Metaverse Type' : pred})\n",
        "print(result)"
      ],
      "metadata": {
        "id": "wCfFQXpm2FnI"
      },
      "execution_count": null,
      "outputs": []
    },
    {
      "cell_type": "code",
      "source": [
        "result.to_csv('./result_metaverse.csv', index=False)"
      ],
      "metadata": {
        "id": "3tH0V7O94IcC"
      },
      "execution_count": null,
      "outputs": []
    },
    {
      "cell_type": "code",
      "source": [],
      "metadata": {
        "id": "HFqsX8uv4Owy"
      },
      "execution_count": null,
      "outputs": []
    }
  ]
}