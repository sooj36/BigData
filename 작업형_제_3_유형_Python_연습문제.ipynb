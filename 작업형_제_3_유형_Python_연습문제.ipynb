{
  "nbformat": 4,
  "nbformat_minor": 0,
  "metadata": {
    "colab": {
      "private_outputs": true,
      "provenance": []
    },
    "kernelspec": {
      "name": "python3",
      "display_name": "Python 3"
    },
    "language_info": {
      "name": "python"
    }
  },
  "cells": [
    {
      "cell_type": "markdown",
      "source": [
        "# 작업형 제 3 유형(Python) - 연습문제"
      ],
      "metadata": {
        "id": "w2TlHdVca9ym"
      }
    },
    {
      "cell_type": "code",
      "source": [
        "## 사용패키지\n",
        "import pandas as pd\n",
        "import numpy as np"
      ],
      "metadata": {
        "id": "R1WTeoccleo-"
      },
      "execution_count": null,
      "outputs": []
    },
    {
      "cell_type": "code",
      "source": [
        "from google.colab import drive\n",
        "drive.mount('/content/drive')"
      ],
      "metadata": {
        "id": "Ln1C9opKazta"
      },
      "execution_count": null,
      "outputs": []
    },
    {
      "cell_type": "markdown",
      "source": [
        "## Airquality Dataset\n",
        "\n",
        "데이터 목록\n",
        "- Airquality.csv : 뉴욕의 대기질 측정 데이터"
      ],
      "metadata": {
        "id": "xuaZhIGjbVDj"
      }
    },
    {
      "cell_type": "markdown",
      "source": [
        "주어진 데이터(data/airquality.csv)에는 1973년 5월에서 9월 사이 153일 동안 뉴욕의 대기질 측정 데이터가 저장되어 있다. 이 기간 중 풍속(mph)의 평균이 뉴욕의 평균 풍속 10mph와 일치하는지 단일표본 t-검정 (One Sample t-Test)을 통해 탐구하고자 한다. 가설은 아래와 같다.\n"
      ],
      "metadata": {
        "id": "kwIRQp2rEdh4"
      }
    },
    {
      "cell_type": "markdown",
      "source": [
        "$H_0$: $\\mu = 10$\n",
        "\n",
        "$H_1$: $\\mu \\neq 10$\n",
        "\n",
        "- **Ozone**: 오존 농도\n",
        "- **Solar.R**: 태양열\n",
        "- **Wind**: 풍속\n",
        "- **Temp**: 온도(화씨)\n",
        "- **Month**: 월\n",
        "- **Day**: 일\n",
        "\n",
        "※ 단, 데이터의 Wind 변수는 정규분포를 만족한다고 가정한다.\n",
        "\n"
      ],
      "metadata": {
        "id": "tWZmoXO53HI0"
      }
    },
    {
      "cell_type": "code",
      "source": [
        "# 출력을 원하실 경우 print() 함수 활용\n",
        "# 예시) print(df.head())\n",
        "\n",
        "# getcwd(), chdir() 등 작업 폴더 설정 불필요\n",
        "# 파일 경로 상 내부 드라이브 경로(C: 등) 접근 불가\n",
        "\n",
        "# 데이터 파일 읽기 예제\n",
        "import pandas as pd\n",
        "Airquality = pd.read_csv('/content/drive/MyDrive/Colab Notebooks/dataset/airquality.csv')\n",
        "\n",
        "# 사용자 코딩\n",
        "\n",
        "# 답안 제출 참고\n",
        "# 아래 코드 예측변수와 수험번호를 개인별로 변경하여 활용\n",
        "# pd.DataFrame({'gender': pred}).to_csv('003000000.csv', index=False)\n"
      ],
      "metadata": {
        "id": "BD6vFH8VginI"
      },
      "execution_count": null,
      "outputs": []
    },
    {
      "cell_type": "markdown",
      "source": [
        "(1) 표본평균 $\\bar{X}$를 구하시오. (단, 반올림하여 소수점 둘째 자리까지 계산한다.)"
      ],
      "metadata": {
        "id": "jdKG_C7BQy9G"
      }
    },
    {
      "cell_type": "code",
      "source": [
        "import pandas as pd\n",
        "\n",
        "#----------------------------------------------------------#\n",
        "# pandas의 read_csv 함수를 통해 데이터프레임 형태로 불러오기\n",
        "file = \"/content/drive/MyDrive/Colab Notebooks/dataset/airquality.csv\"\n",
        "df = pd.read_csv(file)\n",
        "#----------------------------------------------------------#\n",
        "\n",
        "df_mean = df['Wind'].mean()\n",
        "print(\"표본평균 : \",round(df_mean, 2))"
      ],
      "metadata": {
        "id": "qdp1kgOJtDUg"
      },
      "execution_count": null,
      "outputs": []
    },
    {
      "cell_type": "markdown",
      "source": [
        "(2) 위의 가설을 검정하기 위한 검정통계량을 구하시오. (단, 반올림하여 소수점 둘째 자리까지 계산한다.)"
      ],
      "metadata": {
        "id": "xauzyxWLSVB-"
      }
    },
    {
      "cell_type": "code",
      "source": [
        "import scipy.stats as stats\n",
        "\n",
        "t_score, p_value = stats.ttest_1samp(df['Wind'], 10)\n",
        "print(round(t_score, 2))"
      ],
      "metadata": {
        "id": "ucFQKlpStL2X"
      },
      "execution_count": null,
      "outputs": []
    },
    {
      "cell_type": "markdown",
      "source": [
        "(3) 위의 통계량에 대한 p-값을 구하고, 유의수준 0.05에서 가설 검정의 결과를 채택/기각 중 하나로 선택하시오. (단, p-값은 반올림하여 소수점 넷째 자리까지 계산한다.)\n",
        "\n"
      ],
      "metadata": {
        "id": "ww-_fZLdT15B"
      }
    },
    {
      "cell_type": "code",
      "source": [
        "if round(p_value, 4)>=0.05:\n",
        "    print(\"채택\")\n",
        "else:\n",
        "    print(\"기각\")"
      ],
      "metadata": {
        "id": "Ovv6A-E6tMO1"
      },
      "execution_count": null,
      "outputs": []
    },
    {
      "cell_type": "markdown",
      "source": [
        "## StudentPerformance Dataset\n",
        "데이터 목록\n",
        "- StudentPerformance.csv : 뉴욕의 대기질 측정 데이터"
      ],
      "metadata": {
        "id": "hks7I0OsUW4k"
      }
    },
    {
      "cell_type": "markdown",
      "source": [
        "주어진 데이터(data/StudentsPerformance2.csv)에는 1,000명의 학생들의 성별과 학업 성적이 담겨져 있다. 성별에 따라 학업 성적(우수, 보통, 낮음)에 차이가 있는지 카이제곱검정을 통해 답하고자 한다. 가설은 아래와 같다.\n"
      ],
      "metadata": {
        "id": "qrSnRDIMT7Sf"
      }
    },
    {
      "cell_type": "markdown",
      "source": [
        "$H_0$: 성별과 학업 성적은 관련이 없다.\n",
        "\n",
        "$H_1$: 성별과 학업 성적은 관련이 있다.\n"
      ],
      "metadata": {
        "id": "a1g43kwHUBoV"
      }
    },
    {
      "cell_type": "code",
      "source": [
        "# 출력을 원하실 경우 print() 함수 활용\n",
        "# 예시) print(df.head())\n",
        "\n",
        "# getcwd(), chdir() 등 작업 폴더 설정 불필요\n",
        "# 파일 경로 상 내부 드라이브 경로(C: 등) 접근 불가\n",
        "\n",
        "# 데이터 파일 읽기 예제\n",
        "import pandas as pd\n",
        "StudentsPerformance = pd.read_csv('/content/drive/MyDrive/Colab Notebooks/dataset/StudentsPerformance2.csv', encoding='cp949')\n",
        "\n",
        "# 사용자 코딩\n",
        "\n",
        "# 답안 제출 참고\n",
        "# 아래 코드 예측변수와 수험번호를 개인별로 변경하여 활용\n",
        "# pd.DataFrame({'gender': pred}).to_csv('003000000.csv', index=False)\n"
      ],
      "metadata": {
        "id": "pblfyLijUXLj"
      },
      "execution_count": null,
      "outputs": []
    },
    {
      "cell_type": "markdown",
      "source": [
        "(1) 주어진 데이터로 성별과 학업 성적 간의 분할표를 만들었을 때, 학업 성적이 우수한 남학생 수와 여학생 수 의 차이를 정수로 출력하시오."
      ],
      "metadata": {
        "id": "7FTfZFOLUbgo"
      }
    },
    {
      "cell_type": "code",
      "source": [
        "df = pd.read_csv(file, encoding='cp949')\n"
      ],
      "metadata": {
        "id": "9t2ZxmsZtuSW"
      },
      "execution_count": null,
      "outputs": []
    },
    {
      "cell_type": "code",
      "source": [
        "import pandas as pd\n",
        "\n",
        "#----------------------------------------------------------#\n",
        "# pandas의 read_csv 함수를 통해 데이터프레임 형태로 불러오기\n",
        "#file = \"/dataset/StudentsPerformance2.csv\"\n",
        "file = \"/content/drive/MyDrive/Colab Notebooks/dataset/StudentsPerformance2.csv\"\n",
        "df = pd.read_csv(file)\n",
        "#----------------------------------------------------------#\n",
        "\n",
        "# 크로스탭 함수 사용(Pandas) - 분할표 생성\n",
        "table = pd.crosstab(df['성별'],df['학업 성적'])\n",
        "\n",
        "X1 = table.loc['남성', :]\n",
        "X2 = table.loc['여성', :]\n",
        "\n",
        "X1G = X1['우수']\n",
        "X2G = X2['우수']\n",
        "\n",
        "print(abs(X1G-X2G))"
      ],
      "metadata": {
        "id": "BvkWYuULtUVS"
      },
      "execution_count": null,
      "outputs": []
    },
    {
      "cell_type": "markdown",
      "source": [
        "(2) 위의 가설을 검정하기 위한 검정통계량을 구하시오. (단, 반올림하여 소수점 둘째 자리까지 계산한다.)"
      ],
      "metadata": {
        "id": "fo2KompWUg4R"
      }
    },
    {
      "cell_type": "code",
      "source": [
        "import scipy.stats as stats\n",
        "\n",
        "test_result = stats.chi2_contingency([X1, X2])\n",
        "print(round(test_result.statistic,2))"
      ],
      "metadata": {
        "id": "iMERyYA2t5a7"
      },
      "execution_count": null,
      "outputs": []
    },
    {
      "cell_type": "markdown",
      "source": [
        "(3) 위의 통계량에 대한 p-값을 구하고, 유의수준 0.05하에서 가설 검정의 결과를 채택/기각 중 하나로 선택 하시오. (단, p-값은 반올림하여 소수점 넷째 자리까지 계산한다.)"
      ],
      "metadata": {
        "id": "VSk7KiMOUlF2"
      }
    },
    {
      "cell_type": "code",
      "source": [
        "print(round(test_result.pvalue, 4))\n",
        "\n",
        "if round(test_result.pvalue, 4)>=0.05:\n",
        "    print(\"채택\")\n",
        "else:\n",
        "    print(\"기각\")"
      ],
      "metadata": {
        "id": "U819pCJst8pH"
      },
      "execution_count": null,
      "outputs": []
    },
    {
      "cell_type": "code",
      "source": [],
      "metadata": {
        "id": "Sd2hqkwpuBZA"
      },
      "execution_count": null,
      "outputs": []
    },
    {
      "cell_type": "markdown",
      "source": [
        "## ※ 참고\n",
        "  \n",
        "가설검정 별 쓰이는 함수"
      ],
      "metadata": {
        "id": "z-9bOlQgwiRv"
      }
    },
    {
      "cell_type": "code",
      "source": [
        "# (1) 단일표본 T-검정\n",
        "# 모평균 검정"
      ],
      "metadata": {
        "id": "IF0gGUA4whxN"
      },
      "execution_count": null,
      "outputs": []
    },
    {
      "cell_type": "code",
      "source": [
        "from scipy import stats\n",
        "\n",
        "#  점수 데이터\n",
        "scores = [80, 78, 82, 76, 85, 79]\n",
        "\n",
        "# 가설 검정: 평균이 75점인지 여부\n",
        "t_stat, p_value = stats.ttest_1samp(scores, 75)\n",
        "print('T-statistic:', t_stat)\n",
        "print('P-value:', p_value)\n"
      ],
      "metadata": {
        "id": "mPMFlwxhzNVD"
      },
      "execution_count": null,
      "outputs": []
    },
    {
      "cell_type": "code",
      "source": [
        "# (2) 독립표본 T-검정\n",
        "# 모집단 비교 검정"
      ],
      "metadata": {
        "id": "9bWp85iQvJY8"
      },
      "execution_count": null,
      "outputs": []
    },
    {
      "cell_type": "code",
      "source": [
        "from scipy import stats\n",
        "\n",
        "# 두 수업의 학생 점수 데이터\n",
        "class1_scores = [85, 78, 92, 75, 83]\n",
        "class2_scores = [70, 65, 73, 68, 72]\n",
        "\n",
        "# 두 집단 평균 비교 검정\n",
        "t_stat, p_value = stats.ttest_ind(class1_scores, class2_scores)\n",
        "print('T-statistic:', t_stat)\n",
        "print('P-value:', p_value)\n"
      ],
      "metadata": {
        "id": "IdsntKpazNhb"
      },
      "execution_count": null,
      "outputs": []
    },
    {
      "cell_type": "code",
      "source": [
        "# (3) 쌍체표본 T-검정\n",
        "# 모평균 차이 검정"
      ],
      "metadata": {
        "id": "4yVyjKXAxO1I"
      },
      "execution_count": null,
      "outputs": []
    },
    {
      "cell_type": "code",
      "source": [
        "from scipy import stats\n",
        "\n",
        "# 시험 전후 점수\n",
        "before_scores = [70, 75, 80, 85, 78]\n",
        "after_scores = [72, 78, 82, 88, 80]\n",
        "\n",
        "# 쌍체 표본 T-검정\n",
        "t_stat, p_value = stats.ttest_rel(before_scores, after_scores)\n",
        "print('T-statistic:', t_stat)\n",
        "print('P-value:', p_value)\n"
      ],
      "metadata": {
        "id": "weF-VFrJzNqq"
      },
      "execution_count": null,
      "outputs": []
    },
    {
      "cell_type": "code",
      "source": [
        "# (4) 단일표본 모분산 카이제곱 검정\n",
        "# 모분산 검정"
      ],
      "metadata": {
        "id": "_WhIw2NVxsgi"
      },
      "execution_count": null,
      "outputs": []
    },
    {
      "cell_type": "code",
      "source": [
        "from scipy import stats\n",
        "\n",
        "# 제품 품질 측정값 데이터\n",
        "quality_data = [20.1, 19.9, 20.0, 20.3, 20.5, 19.8]\n",
        "\n",
        "# 가설 검정: 분산이 예상 분산(0.25)과 다른지 여부\n",
        "variance = 0.25\n",
        "chi2_stat = ((len(quality_data) - 1) * np.var(quality_data)) / variance\n",
        "p_value = 1 - stats.chi2.cdf(chi2_stat, df=len(quality_data)-1)\n",
        "print('Chi-squared:', chi2_stat)\n",
        "print('P-value:', p_value)\n"
      ],
      "metadata": {
        "id": "AMTFew63zNz_"
      },
      "execution_count": null,
      "outputs": []
    },
    {
      "cell_type": "code",
      "source": [
        "# (5) 모분산비 검정\n",
        "# 두 집단의 모분산 비교 검정"
      ],
      "metadata": {
        "id": "aqJXX7sExyMj"
      },
      "execution_count": null,
      "outputs": []
    },
    {
      "cell_type": "code",
      "source": [
        "import numpy as np\n",
        "from scipy import stats\n",
        "\n",
        "# 두 부서의 업무 처리 시간 (분)\n",
        "department1_times = [30, 45, 50, 40, 35]\n",
        "department2_times = [60, 55, 65, 70, 50]\n",
        "\n",
        "# F-test로 두 집단의 분산 비교\n",
        "f_stat, p_value = stats.levene(department1_times, department2_times)\n",
        "print('F-statistic:', f_stat)\n",
        "print('P-value:', p_value)\n"
      ],
      "metadata": {
        "id": "I4FsYw5czN-O"
      },
      "execution_count": null,
      "outputs": []
    },
    {
      "cell_type": "code",
      "source": [
        "# (6) 적합도 검정\n",
        "# 모집단이 특정 분포를 따르는 지 검정"
      ],
      "metadata": {
        "id": "d4xyPOQvx1hH"
      },
      "execution_count": null,
      "outputs": []
    },
    {
      "cell_type": "code",
      "source": [
        "from scipy import stats\n",
        "\n",
        "# 관측된 판매 비율 (예: 상품 A, B, C)\n",
        "observed_sales = [50, 30, 20]\n",
        "\n",
        "# 예상 비율 (예: 상품 A 40%, B 35%, C 25%)\n",
        "expected_sales = [40, 35, 25]\n",
        "\n",
        "# 카이제곱 적합도 검정\n",
        "chi2_stat, p_value = stats.chisquare(observed_sales, f_exp=expected_sales)\n",
        "print('Chi-squared:', chi2_stat)\n",
        "print('P-value:', p_value)\n"
      ],
      "metadata": {
        "id": "9kSB8dDIzOYz"
      },
      "execution_count": null,
      "outputs": []
    },
    {
      "cell_type": "code",
      "source": [
        "# (7) 독립성 검정\n",
        "# 두 변수가 서로 독립인 지 검정"
      ],
      "metadata": {
        "id": "y93SelPtyX9a"
      },
      "execution_count": null,
      "outputs": []
    },
    {
      "cell_type": "code",
      "source": [
        "import pandas as pd\n",
        "from scipy import stats\n",
        "\n",
        "# 교차표 (도시별로 선호하는 교통수단)\n",
        "data = pd.DataFrame({\n",
        "    'Bus': [20, 30, 50],\n",
        "    'Subway': [50, 40, 30],\n",
        "    'Bicycle': [30, 20, 20]\n",
        "}, index=['City1', 'City2', 'City3'])\n",
        "\n",
        "# 카이제곱 독립성 검정\n",
        "chi2_stat, p_value, dof, expected = stats.chi2_contingency(data)\n",
        "print('Chi-squared:', chi2_stat)\n",
        "print('P-value:', p_value)\n"
      ],
      "metadata": {
        "id": "O3A721iYzOmp"
      },
      "execution_count": null,
      "outputs": []
    }
  ]
}